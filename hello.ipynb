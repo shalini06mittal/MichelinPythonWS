{
 "cells": [
  {
   "cell_type": "code",
   "execution_count": 1,
   "id": "f7b4271c-3325-4205-b8e6-daefe8dc0953",
   "metadata": {},
   "outputs": [
    {
     "name": "stdout",
     "output_type": "stream",
     "text": [
      "hello\n"
     ]
    }
   ],
   "source": [
    "print('hello')"
   ]
  },
  {
   "cell_type": "code",
   "execution_count": 4,
   "id": "d018a0a2-6cc7-467b-b06d-5829e7a38da2",
   "metadata": {},
   "outputs": [],
   "source": [
    "import time\n",
    "time.sleep(3)"
   ]
  },
  {
   "cell_type": "markdown",
   "id": "3ac6c4a6-b4a9-4994-9235-93699b96e8a7",
   "metadata": {},
   "source": [
    "<h1>testing</h1>"
   ]
  },
  {
   "cell_type": "code",
   "execution_count": 7,
   "id": "a979b7d7-39a2-4c92-9e87-b2a8724af599",
   "metadata": {},
   "outputs": [
    {
     "name": "stdout",
     "output_type": "stream",
     "text": [
      "2023-12-11 09:25:09.094820\n"
     ]
    }
   ],
   "source": [
    "import datetime\n",
    "print(datetime.datetime.now())"
   ]
  },
  {
   "cell_type": "code",
   "execution_count": 8,
   "id": "ac3ac3eb-c22a-4b63-baee-5178044562b4",
   "metadata": {},
   "outputs": [
    {
     "name": "stdout",
     "output_type": "stream",
     "text": [
      "2023-12-11 09:25:22.293896\n"
     ]
    }
   ],
   "source": [
    "print(datetime.datetime.now())"
   ]
  },
  {
   "cell_type": "markdown",
   "id": "221877d3-0998-41b3-9885-016cf73406b4",
   "metadata": {},
   "source": [
    "<h1>hello</h1>"
   ]
  },
  {
   "cell_type": "code",
   "execution_count": null,
   "id": "bd372af0-9682-4a01-8993-ff32aa0c497b",
   "metadata": {},
   "outputs": [],
   "source": []
  }
 ],
 "metadata": {
  "kernelspec": {
   "display_name": "Python 3 (ipykernel)",
   "language": "python",
   "name": "python3"
  },
  "language_info": {
   "codemirror_mode": {
    "name": "ipython",
    "version": 3
   },
   "file_extension": ".py",
   "mimetype": "text/x-python",
   "name": "python",
   "nbconvert_exporter": "python",
   "pygments_lexer": "ipython3",
   "version": "3.11.5"
  }
 },
 "nbformat": 4,
 "nbformat_minor": 5
}
